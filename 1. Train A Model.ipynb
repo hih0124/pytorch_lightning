{
 "cells": [
  {
   "cell_type": "code",
   "execution_count": 33,
   "id": "f8064624",
   "metadata": {},
   "outputs": [],
   "source": [
    "import os\n",
    "import torch\n",
    "import warnings\n",
    "\n",
    "from torch import nn # 신경망을 구축하기 위한 모듈\n",
    "import torch.nn.functional as F\n",
    "from torchvision import transforms\n",
    "from torchvision.datasets import MNIST\n",
    "from torch.utils.data import DataLoader\n",
    "\n",
    "import lightning as L\n",
    "\n",
    "warnings.filterwarnings(\"ignore\")"
   ]
  },
  {
   "cell_type": "markdown",
   "id": "0da7ccf2",
   "metadata": {},
   "source": [
    "# Define the PyTorch nn.Modules"
   ]
  },
  {
   "cell_type": "code",
   "execution_count": 35,
   "id": "038d733c",
   "metadata": {},
   "outputs": [],
   "source": [
    "class Encoder(nn.Module):\n",
    "    def __init__(self):\n",
    "        super().__init__()\n",
    "        self.l1 = nn.Sequential(nn.Linear(28*28, 64), nn.ReLU(), nn.Linear(64,3))\n",
    "        \n",
    "    def forward(self, x):\n",
    "        return self.l1(x)\n",
    "\n",
    "class Decoder(nn.Module):\n",
    "    def __init__(self):\n",
    "        super().__init__()\n",
    "        self.l1 = nn.Sequential(nn.Linear(3,64), nn.ReLU(), nn.Linear(64, 28*28))\n",
    "        \n",
    "    def forward(self, x):\n",
    "        return self.l1(x)"
   ]
  },
  {
   "cell_type": "markdown",
   "id": "82a1fdf9",
   "metadata": {},
   "source": [
    "# Define a LightningModule"
   ]
  },
  {
   "cell_type": "code",
   "execution_count": 36,
   "id": "e115b23f",
   "metadata": {},
   "outputs": [],
   "source": [
    "class LitAutoEncoder(L.LightningModule):\n",
    "    '''\n",
    "    오토인코더 \n",
    "    - 정의 : 입력을 encoder를 통해 정보를 압축하고, decoder를 통해 입력과 유사한 형태로 재구성 \n",
    "    - 목적 : 입력 데이터의 효과적인 표현을 학습하는데 목적이 있다.\n",
    "    '''\n",
    "    def __init__(self, encoder, decoder):\n",
    "        super().__init__()\n",
    "        self.encoder = encoder\n",
    "        self.decoder = decoder\n",
    "    \n",
    "    def training_step(self, batch, batch_idx):\n",
    "        # 각 학습 batch에 대해 호출되며, 해당 배치를 처리하고 손실을 계산하는 등의 학습과 관련된 작업 수행\n",
    "        x, y = batch\n",
    "        x = x.view(x.size(0), -1)\n",
    "        z = self.encoder(x)\n",
    "        x_hat = self.decoder(z)\n",
    "        loss = F.mse_loss(x_hat, x)\n",
    "        return loss\n",
    "    \n",
    "    def configure_optimizers(self):\n",
    "        '''\n",
    "        optimizer : 가중치를 효율적으로 업데이트하는 최적화 알고리즘 \n",
    "        adam : 모멘텀과 이동평균을 고려한 최적화 알고리즘 => 빠른 수렴 속도 \n",
    "        - 모멘텀 : (관성) 가중치를 한 방향으로 계속해서 움직이게 함\n",
    "        - 이동평균 : 최근 데이터에 높은 가중치를 둔다.\n",
    "        '''\n",
    "        optimizer = torch.optim.Adam(self.parameters(), lr=1e-3)\n",
    "        return optimizer"
   ]
  },
  {
   "cell_type": "markdown",
   "id": "e8bb31e7",
   "metadata": {},
   "source": [
    "# Define the trainig dataset"
   ]
  },
  {
   "cell_type": "code",
   "execution_count": 37,
   "id": "8edf76cc",
   "metadata": {},
   "outputs": [],
   "source": [
    "# 데이터 셋\n",
    "dataset = MNIST(os.getcwd(), download=True, transform=transforms.ToTensor())\n",
    "# 데이터로더\n",
    "train_loader = DataLoader(dataset, batch_size=10)"
   ]
  },
  {
   "cell_type": "markdown",
   "id": "007337ef",
   "metadata": {},
   "source": [
    "# Train the model"
   ]
  },
  {
   "cell_type": "code",
   "execution_count": null,
   "id": "cf64b2fc",
   "metadata": {},
   "outputs": [],
   "source": [
    "# model\n",
    "autoencoder = LitAutoEncoder(Encoder(), Decoder())\n",
    "\n",
    "# train model\n",
    "trainer = L.Trainer(fast_dev_run=10)\n",
    "trainer.fit(model=autoencoder, train_dataloaders=train_loader)"
   ]
  },
  {
   "cell_type": "code",
   "execution_count": null,
   "id": "da197dae",
   "metadata": {},
   "outputs": [],
   "source": []
  }
 ],
 "metadata": {
  "kernelspec": {
   "display_name": "Python [conda env:fi]",
   "language": "python",
   "name": "conda-env-fi-py"
  },
  "language_info": {
   "codemirror_mode": {
    "name": "ipython",
    "version": 3
   },
   "file_extension": ".py",
   "mimetype": "text/x-python",
   "name": "python",
   "nbconvert_exporter": "python",
   "pygments_lexer": "ipython3",
   "version": "3.10.13"
  }
 },
 "nbformat": 4,
 "nbformat_minor": 5
}
